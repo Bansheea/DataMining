{
  "cells": [
    {
      "cell_type": "code",
      "execution_count": 13,
      "metadata": {
        "id": "qOjpLqqxENGj"
      },
      "outputs": [],
      "source": [
        "import numpy as np\n",
        "import pandas as pd\n",
        "from sklearn import tree"
      ]
    },
    {
      "cell_type": "code",
      "execution_count": 41,
      "metadata": {
        "colab": {
          "base_uri": "https://localhost:8080/"
        },
        "id": "vlQ1XQwbEVAe",
        "outputId": "64a854a7-9140-439f-cacb-f96707e9a3b6"
      },
      "outputs": [
        {
          "name": "stdout",
          "output_type": "stream",
          "text": [
            "          Date    Open    High     Low   Close     AdjClose     Volume  Buy\n",
            "0   2022-03-21  7800.0  7950.0  7800.0  7900.0  7750.496094   85485500  Yes\n",
            "1   2022-03-22  7900.0  7950.0  7875.0  7925.0  7775.022949   60010900   No\n",
            "2   2022-03-23  7925.0  7950.0  7825.0  7900.0  7750.496094   82208000  Yes\n",
            "3   2022-03-24  7850.0  7950.0  7800.0  7925.0  7775.022949   95245100  Yes\n",
            "4   2022-03-25  7900.0  7950.0  7900.0  7950.0  7799.549805   85101200   No\n",
            "5   2022-03-28  7825.0  7900.0  7800.0  7900.0  7869.277832   83911500   No\n",
            "6   2022-03-29  7875.0  7900.0  7825.0  7850.0  7819.472168   62180600  Yes\n",
            "7   2022-03-30  7900.0  7900.0  7825.0  7875.0  7844.375000   71430600  Yes\n",
            "8   2022-03-31  7925.0  8000.0  7875.0  7975.0  7943.985840  112691900  Yes\n",
            "9   2022-04-01  8075.0  8075.0  7850.0  7925.0  7894.180664  105575400   No\n",
            "10  2022-04-04  7925.0  7925.0  7825.0  7900.0  7869.277832   57321200  Yes\n",
            "11  2022-04-05  7900.0  7900.0  7850.0  7900.0  7869.277832   48528300  Yes\n",
            "12  2022-04-06  7825.0  7850.0  7750.0  7750.0  7719.860840  119263000  Yes\n",
            "13  2022-04-07  7725.0  7825.0  7700.0  7750.0  7719.860840   68619400   No\n",
            "14  2022-04-08  7800.0  7875.0  7775.0  7850.0  7819.472168   69791600   No\n",
            "15  2022-04-11  7825.0  7875.0  7725.0  7725.0  7694.958008   62776200  Yes\n",
            "16  2022-04-12  7725.0  7800.0  7700.0  7800.0  7769.666504   73471300   No\n",
            "17  2022-04-13  7800.0  7850.0  7750.0  7800.0  7769.666504   57622100  Yes\n",
            "18  2022-04-14  7800.0  7800.0  7700.0  7700.0  7670.055664   93342900  Yes\n",
            "19  2022-04-18  7700.0  7725.0  7625.0  7700.0  7670.055664   68464700   No\n",
            "20  2022-04-19  7700.0  7700.0  7625.0  7625.0  7595.347168   98632000   No\n",
            "21  2022-04-20  7725.0  7725.0  7625.0  7650.0  7620.250000  124388800  Yes\n",
            "22  2022-04-21  7800.0  7925.0  7750.0  7925.0  7894.180664  129323400  Yes\n",
            "23  2022-04-22  7850.0  7925.0  7800.0  7875.0  7844.375000   85956100   No\n",
            "24  2022-04-25  7875.0  8000.0  7825.0  8000.0  7968.888672   91279600   No\n",
            "25  2022-04-26  7925.0  8125.0  7925.0  8125.0  8093.402832  128360900  Yes\n",
            "26  2022-04-27  8075.0  8200.0  8075.0  8200.0  8168.110840   89463100   No\n",
            "27  2022-04-28  8250.0  8250.0  8075.0  8125.0  8093.402832  133730600  Yes\n",
            "28  2022-05-09  7875.0  7900.0  7600.0  7600.0  7570.444336  456796600  Yes\n",
            "29  2022-05-10  7250.0  7600.0  7250.0  7525.0  7495.735840  268445700   No\n",
            "30  2022-05-11  7525.0  7700.0  7450.0  7650.0  7620.250000  156535200   No\n",
            "31  2022-05-12  7525.0  7550.0  7275.0  7275.0  7246.708008  240529600   No\n",
            "32  2022-05-13  7250.0  7475.0  7250.0  7325.0  7296.513672  212968600  Yes\n",
            "33  2022-05-17  7275.0  7475.0  7275.0  7400.0  7371.222168  159657600   No\n",
            "34  2022-05-18  7500.0  7575.0  7375.0  7575.0  7545.541504  153514300  Yes\n",
            "35  2022-05-19  7400.0  7475.0  7375.0  7450.0  7421.027832  140908900  Yes\n",
            "36  2022-05-20  7425.0  7475.0  7400.0  7400.0  7371.222168   86520200   No\n",
            "37  2022-05-23  7450.0  7475.0  7350.0  7375.0  7346.319336   71603500   No\n",
            "38  2022-05-24  7325.0  7475.0  7325.0  7350.0  7321.416504  108710800  Yes\n",
            "39  2022-05-25  7400.0  7450.0  7350.0  7375.0  7346.319336   76747400  Yes\n",
            "40  2022-05-27  7525.0  7575.0  7475.0  7575.0  7545.541504   84336900  Yes\n",
            "41  2022-05-30  7575.0  7600.0  7475.0  7575.0  7545.541504  105411400   No\n",
            "42  2022-05-31  7600.0  7750.0  7525.0  7750.0  7719.860840  286292700  Yes\n",
            "43  2022-06-02  7625.0  7675.0  7525.0  7575.0  7545.541504  149226300  Yes\n",
            "44  2022-06-03  7600.0  7675.0  7575.0  7600.0  7570.444336   80563100  Yes\n",
            "45  2022-06-06  7550.0  7575.0  7425.0  7450.0  7421.027832   81140300  Yes\n",
            "46  2022-06-07  7300.0  7475.0  7300.0  7375.0  7346.319336  129242500  Yes\n",
            "47  2022-06-08  7500.0  7600.0  7425.0  7600.0  7570.444336  108910500  Yes\n",
            "48  2022-06-09  7500.0  7575.0  7500.0  7500.0  7470.833008  107828300  Yes\n"
          ]
        }
      ],
      "source": [
        "antmDataset = pd.read_csv('BBCA.JK.csv')\n",
        "print(antmDataset)"
      ]
    },
    {
      "cell_type": "code",
      "execution_count": 42,
      "metadata": {
        "id": "XEXTca4jGb2i"
      },
      "outputs": [
        {
          "data": {
            "text/html": [
              "<div>\n",
              "<style scoped>\n",
              "    .dataframe tbody tr th:only-of-type {\n",
              "        vertical-align: middle;\n",
              "    }\n",
              "\n",
              "    .dataframe tbody tr th {\n",
              "        vertical-align: top;\n",
              "    }\n",
              "\n",
              "    .dataframe thead th {\n",
              "        text-align: right;\n",
              "    }\n",
              "</style>\n",
              "<table border=\"1\" class=\"dataframe\">\n",
              "  <thead>\n",
              "    <tr style=\"text-align: right;\">\n",
              "      <th></th>\n",
              "      <th>Date</th>\n",
              "      <th>Open</th>\n",
              "      <th>High</th>\n",
              "      <th>Low</th>\n",
              "      <th>Close</th>\n",
              "      <th>AdjClose</th>\n",
              "      <th>Volume</th>\n",
              "      <th>Buy</th>\n",
              "    </tr>\n",
              "  </thead>\n",
              "  <tbody>\n",
              "    <tr>\n",
              "      <th>0</th>\n",
              "      <td>2022-03-21</td>\n",
              "      <td>7800.0</td>\n",
              "      <td>7950.0</td>\n",
              "      <td>7800.0</td>\n",
              "      <td>7900.0</td>\n",
              "      <td>7750.496094</td>\n",
              "      <td>85485500</td>\n",
              "      <td>Yes</td>\n",
              "    </tr>\n",
              "    <tr>\n",
              "      <th>1</th>\n",
              "      <td>2022-03-22</td>\n",
              "      <td>7900.0</td>\n",
              "      <td>7950.0</td>\n",
              "      <td>7875.0</td>\n",
              "      <td>7925.0</td>\n",
              "      <td>7775.022949</td>\n",
              "      <td>60010900</td>\n",
              "      <td>No</td>\n",
              "    </tr>\n",
              "    <tr>\n",
              "      <th>2</th>\n",
              "      <td>2022-03-23</td>\n",
              "      <td>7925.0</td>\n",
              "      <td>7950.0</td>\n",
              "      <td>7825.0</td>\n",
              "      <td>7900.0</td>\n",
              "      <td>7750.496094</td>\n",
              "      <td>82208000</td>\n",
              "      <td>Yes</td>\n",
              "    </tr>\n",
              "    <tr>\n",
              "      <th>3</th>\n",
              "      <td>2022-03-24</td>\n",
              "      <td>7850.0</td>\n",
              "      <td>7950.0</td>\n",
              "      <td>7800.0</td>\n",
              "      <td>7925.0</td>\n",
              "      <td>7775.022949</td>\n",
              "      <td>95245100</td>\n",
              "      <td>Yes</td>\n",
              "    </tr>\n",
              "    <tr>\n",
              "      <th>4</th>\n",
              "      <td>2022-03-25</td>\n",
              "      <td>7900.0</td>\n",
              "      <td>7950.0</td>\n",
              "      <td>7900.0</td>\n",
              "      <td>7950.0</td>\n",
              "      <td>7799.549805</td>\n",
              "      <td>85101200</td>\n",
              "      <td>No</td>\n",
              "    </tr>\n",
              "  </tbody>\n",
              "</table>\n",
              "</div>"
            ],
            "text/plain": [
              "         Date    Open    High     Low   Close     AdjClose    Volume  Buy\n",
              "0  2022-03-21  7800.0  7950.0  7800.0  7900.0  7750.496094  85485500  Yes\n",
              "1  2022-03-22  7900.0  7950.0  7875.0  7925.0  7775.022949  60010900   No\n",
              "2  2022-03-23  7925.0  7950.0  7825.0  7900.0  7750.496094  82208000  Yes\n",
              "3  2022-03-24  7850.0  7950.0  7800.0  7925.0  7775.022949  95245100  Yes\n",
              "4  2022-03-25  7900.0  7950.0  7900.0  7950.0  7799.549805  85101200   No"
            ]
          },
          "execution_count": 42,
          "metadata": {},
          "output_type": "execute_result"
        }
      ],
      "source": [
        "antmDataset.head()"
      ]
    },
    {
      "cell_type": "code",
      "execution_count": 43,
      "metadata": {
        "colab": {
          "base_uri": "https://localhost:8080/",
          "height": 206
        },
        "id": "aZIda2_iGzX7",
        "outputId": "2864e6a1-30d8-495b-e69e-c781a3e9eccd"
      },
      "outputs": [
        {
          "data": {
            "text/html": [
              "<div>\n",
              "<style scoped>\n",
              "    .dataframe tbody tr th:only-of-type {\n",
              "        vertical-align: middle;\n",
              "    }\n",
              "\n",
              "    .dataframe tbody tr th {\n",
              "        vertical-align: top;\n",
              "    }\n",
              "\n",
              "    .dataframe thead th {\n",
              "        text-align: right;\n",
              "    }\n",
              "</style>\n",
              "<table border=\"1\" class=\"dataframe\">\n",
              "  <thead>\n",
              "    <tr style=\"text-align: right;\">\n",
              "      <th></th>\n",
              "      <th>Date</th>\n",
              "      <th>Open</th>\n",
              "      <th>High</th>\n",
              "      <th>Low</th>\n",
              "      <th>Close</th>\n",
              "      <th>AdjClose</th>\n",
              "      <th>Volume</th>\n",
              "      <th>Buy</th>\n",
              "    </tr>\n",
              "  </thead>\n",
              "  <tbody>\n",
              "    <tr>\n",
              "      <th>0</th>\n",
              "      <td>2022-03-21</td>\n",
              "      <td>7800.0</td>\n",
              "      <td>7950.0</td>\n",
              "      <td>7800.0</td>\n",
              "      <td>7900.0</td>\n",
              "      <td>7750.496094</td>\n",
              "      <td>85485500</td>\n",
              "      <td>0</td>\n",
              "    </tr>\n",
              "    <tr>\n",
              "      <th>1</th>\n",
              "      <td>2022-03-22</td>\n",
              "      <td>7900.0</td>\n",
              "      <td>7950.0</td>\n",
              "      <td>7875.0</td>\n",
              "      <td>7925.0</td>\n",
              "      <td>7775.022949</td>\n",
              "      <td>60010900</td>\n",
              "      <td>1</td>\n",
              "    </tr>\n",
              "    <tr>\n",
              "      <th>2</th>\n",
              "      <td>2022-03-23</td>\n",
              "      <td>7925.0</td>\n",
              "      <td>7950.0</td>\n",
              "      <td>7825.0</td>\n",
              "      <td>7900.0</td>\n",
              "      <td>7750.496094</td>\n",
              "      <td>82208000</td>\n",
              "      <td>0</td>\n",
              "    </tr>\n",
              "    <tr>\n",
              "      <th>3</th>\n",
              "      <td>2022-03-24</td>\n",
              "      <td>7850.0</td>\n",
              "      <td>7950.0</td>\n",
              "      <td>7800.0</td>\n",
              "      <td>7925.0</td>\n",
              "      <td>7775.022949</td>\n",
              "      <td>95245100</td>\n",
              "      <td>0</td>\n",
              "    </tr>\n",
              "    <tr>\n",
              "      <th>4</th>\n",
              "      <td>2022-03-25</td>\n",
              "      <td>7900.0</td>\n",
              "      <td>7950.0</td>\n",
              "      <td>7900.0</td>\n",
              "      <td>7950.0</td>\n",
              "      <td>7799.549805</td>\n",
              "      <td>85101200</td>\n",
              "      <td>1</td>\n",
              "    </tr>\n",
              "  </tbody>\n",
              "</table>\n",
              "</div>"
            ],
            "text/plain": [
              "         Date    Open    High     Low   Close     AdjClose    Volume  Buy\n",
              "0  2022-03-21  7800.0  7950.0  7800.0  7900.0  7750.496094  85485500    0\n",
              "1  2022-03-22  7900.0  7950.0  7875.0  7925.0  7775.022949  60010900    1\n",
              "2  2022-03-23  7925.0  7950.0  7825.0  7900.0  7750.496094  82208000    0\n",
              "3  2022-03-24  7850.0  7950.0  7800.0  7925.0  7775.022949  95245100    0\n",
              "4  2022-03-25  7900.0  7950.0  7900.0  7950.0  7799.549805  85101200    1"
            ]
          },
          "execution_count": 43,
          "metadata": {},
          "output_type": "execute_result"
        }
      ],
      "source": [
        "antmDataset[\"Buy\"] = pd.factorize(antmDataset.Buy)[0]\n",
        "antmDataset.head()"
      ]
    },
    {
      "cell_type": "code",
      "execution_count": 44,
      "metadata": {
        "id": "Ag7x3LFmHcTo"
      },
      "outputs": [],
      "source": [
        "antmDataset = antmDataset.drop(labels=\"Date\", axis=1)"
      ]
    },
    {
      "cell_type": "code",
      "execution_count": 45,
      "metadata": {
        "id": "8XWccbypIWt_"
      },
      "outputs": [],
      "source": [
        "antmDataset = antmDataset.to_numpy()"
      ]
    },
    {
      "cell_type": "code",
      "execution_count": 46,
      "metadata": {
        "id": "IDRlNMLMIm7e"
      },
      "outputs": [],
      "source": [
        "dataTraining = np.concatenate((antmDataset[0:40, :], antmDataset[50:90, :]), axis=0)\n",
        "dataTesting = np.concatenate((antmDataset[40:50, :], antmDataset[90:100, :]), axis=0)"
      ]
    },
    {
      "cell_type": "code",
      "execution_count": 51,
      "metadata": {
        "id": "1KYB1apxJnJy"
      },
      "outputs": [],
      "source": [
        "inputTraining = dataTraining[:,0:4]\n",
        "inputTesting = dataTesting[:, 0:4]\n",
        "labelTraining = dataTraining[:, 6]\n",
        "labelTesting = dataTesting[:, 4]"
      ]
    },
    {
      "cell_type": "code",
      "execution_count": 52,
      "metadata": {
        "id": "1GLKFdUlJTWb"
      },
      "outputs": [],
      "source": [
        "model = tree.DecisionTreeClassifier()"
      ]
    },
    {
      "cell_type": "code",
      "execution_count": 53,
      "metadata": {
        "id": "q_mi9ti7Jhc6"
      },
      "outputs": [],
      "source": [
        "model = model.fit(inputTraining, labelTraining)"
      ]
    },
    {
      "cell_type": "code",
      "execution_count": 54,
      "metadata": {
        "colab": {
          "base_uri": "https://localhost:8080/"
        },
        "id": "hfdGhgvOJ3bQ",
        "outputId": "2a442c96-8f7f-4317-9eef-84889e792f6a"
      },
      "outputs": [
        {
          "name": "stdout",
          "output_type": "stream",
          "text": [
            "Label Sebenarnya :  [7545.541504 7545.541504 7719.86084  7545.541504 7570.444336 7421.027832\n",
            " 7346.319336 7570.444336 7470.833008]\n",
            "Hasil Prediksi :  [1. 1. 1. 1. 1. 1. 1. 0. 0.]\n"
          ]
        }
      ],
      "source": [
        "hasilPrediksi = model.predict(inputTesting)\n",
        "print(\"Label Sebenarnya : \", labelTesting)\n",
        "print(\"Hasil Prediksi : \", hasilPrediksi)"
      ]
    },
    {
      "cell_type": "code",
      "execution_count": 55,
      "metadata": {
        "colab": {
          "base_uri": "https://localhost:8080/"
        },
        "id": "Ii613vafKF7M",
        "outputId": "0faea837-3c38-4c25-e1ce-ca9e07b6b244"
      },
      "outputs": [
        {
          "name": "stdout",
          "output_type": "stream",
          "text": [
            "Prediksi Benar :  0 data\n",
            "Prediksi Salah :  9 data\n",
            "akurasi :  0.0 %\n"
          ]
        }
      ],
      "source": [
        "prediksiBenar = (hasilPrediksi == labelTesting).sum()\n",
        "prediksiSalah = (hasilPrediksi != labelTesting).sum()\n",
        "print(\"Prediksi Benar : \", prediksiBenar, \"data\")\n",
        "print(\"Prediksi Salah : \", prediksiSalah, \"data\")\n",
        "print(\"akurasi : \", prediksiBenar/(prediksiBenar+prediksiSalah) * 100, \"%\")"
      ]
    }
  ],
  "metadata": {
    "colab": {
      "provenance": []
    },
    "kernelspec": {
      "display_name": "Python 3",
      "name": "python3"
    },
    "language_info": {
      "codemirror_mode": {
        "name": "ipython",
        "version": 3
      },
      "file_extension": ".py",
      "mimetype": "text/x-python",
      "name": "python",
      "nbconvert_exporter": "python",
      "pygments_lexer": "ipython3",
      "version": "3.10.9"
    }
  },
  "nbformat": 4,
  "nbformat_minor": 0
}
